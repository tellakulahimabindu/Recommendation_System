{
 "cells": [
  {
   "cell_type": "code",
   "execution_count": 1,
   "metadata": {},
   "outputs": [],
   "source": [
    "#Generating neighbours"
   ]
  },
  {
   "cell_type": "code",
   "execution_count": 11,
   "metadata": {},
   "outputs": [],
   "source": [
    "#for calculating euclidean distance we use scipy library\n",
    "from scipy.spatial import distance\n",
    "\n",
    "import numpy as np\n",
    "import pandas as pd\n",
    "import fuzzy_set"
   ]
  },
  {
   "cell_type": "code",
   "execution_count": 17,
   "metadata": {},
   "outputs": [],
   "source": [
    "#Defning some constants\n",
    "\n",
    "#A conventional PSO algorithm is used to learn the 21 feature weights\n",
    "NO_OF_FEATURES=21\n",
    "WEIGHTS=np.random.rand(NO_OF_FEATURES)\n",
    "NO_OF_ITERATIONS=10\n",
    "NO_OF_NEIGHBOURS=20\n",
    "NO_OF_GENRES=19\n",
    "\n",
    "# Create objects for Age and GIM to use for fuzzy sets\n",
    "age = fuzzy_set.Age()\n",
    "gim_obj = fuzzy_set.GIM()\n",
    "\n",
    "m_cols = ['unknown', 'Action', 'Adventure',\n",
    "          'Animation', 'Children\\'s', 'Comedy', 'Crime', 'Documentary', 'Drama', 'Fantasy',\n",
    "          'Film-Noir', 'Horror', 'Musical', 'Mystery', 'Romance', 'Sci-Fi', 'Thriller', 'War', 'Western', 'age',\n",
    "          'user_id']\n",
    "\n",
    "# Initialize empty dataFrames for active and passive users\n",
    "model_data_active_users = pd.DataFrame(columns=m_cols)\n",
    "model_data_passive_users = pd.DataFrame(columns=m_cols)"
   ]
  },
  {
   "cell_type": "code",
   "execution_count": 30,
   "metadata": {},
   "outputs": [],
   "source": [
    "#calculating euclidean distance between two array elements\n",
    "def euclidean_dist(list_a, list_b):\n",
    "    return distance.euclidean(list_a,list_b)\n",
    "\n",
    "\n",
    "#calculating fuzzy distance between two values and their fuzzy sets\n",
    "def fuzzy_dist(first_point, second_point, fuzzy_set_first_point, fuzzy_set_second_point):\n",
    "    return abs(first_point - second_point) * euclidean_dist(fuzzy_set_first_point, fuzzy_set_second_point)\n",
    "\n",
    "\n",
    "#calculating fuzzy distance between given two points\n",
    "def fuzzy_distance(ui, uj):\n",
    "    \n",
    "    fuzzy_dis = [0] * NO_OF_FEATURES\n",
    "\n",
    "    # Get fuzzy set values for movie genres\n",
    "    for i in range(0, NO_OF_GENRES):\n",
    "        ui_gim = gim_obj.get_fuzzy_set(ui[i])\n",
    "        uj_gim = gim_obj.get_fuzzy_set(uj[i])\n",
    "        fuzzy_dis[i] = fuzzy_dist(ui[i], uj[i], ui_gim, uj_gim)\n",
    "\n",
    "    # Get fuzzy set values for age\n",
    "    ui_gim = age.get_fuzzy_set(ui[i])\n",
    "    uj_gim = age.get_fuzzy_set(uj[i])\n",
    "    fuzzy_dis[i] = fuzzy_dist(ui[i], uj[i], ui_gim, uj_gim)\n",
    "\n",
    "    # adding user_id of second user\n",
    "    fuzzy_dis[NO_OF_FEATURES-1] = uj['user_id']\n",
    "    return fuzzy_dis\n"
   ]
  },
  {
   "cell_type": "code",
   "execution_count": 31,
   "metadata": {},
   "outputs": [],
   "source": [
    "#neighbour generation\n",
    "\n",
    "def get_neighbours(model_active_users, model_passive_users):\n",
    "\n",
    "    # Save active users and its neighbours in a data-frame with active users' id as column name\n",
    "    user_neighbours= pd.DataFrame(columns=model_active_users['user_id'])\n",
    "\n",
    "    # Iterate over active users model and save neighbours of each active users in user_neighbours\n",
    "    for _, value in model_active_users.iterrows():\n",
    "        j = 0\n",
    "        fuzzy_vec = []\n",
    "        for _, value_p in model_passive_users.iterrows():\n",
    "            fuzzy_vec.append(fuzzy_distance(value, value_p))\n",
    "\n",
    "            fuzzy_gen_dist = np.sum(np.multiply(WEIGHTS[:-1], np.array(fuzzy_vec[j][:-1]))) ** 0.5\n",
    "\n",
    "            fuzzy_vec[j] = [fuzzy_gen_dist, fuzzy_vec[j][-1]]\n",
    "\n",
    "            j = j + 1\n",
    "\n",
    "        user_neighbours[value[-1]] = [n[1] for n in sorted(fuzzy_vec, key=operator.itemgetter(0), reverse=True)][:NO_OF_NEIGHBOURS]\n",
    "    return user_neighbours"
   ]
  },
  {
   "cell_type": "code",
   "execution_count": null,
   "metadata": {},
   "outputs": [],
   "source": []
  }
 ],
 "metadata": {
  "kernelspec": {
   "display_name": "Python 3",
   "language": "python",
   "name": "python3"
  },
  "language_info": {
   "codemirror_mode": {
    "name": "ipython",
    "version": 3
   },
   "file_extension": ".py",
   "mimetype": "text/x-python",
   "name": "python",
   "nbconvert_exporter": "python",
   "pygments_lexer": "ipython3",
   "version": "3.8.0"
  }
 },
 "nbformat": 4,
 "nbformat_minor": 4
}
