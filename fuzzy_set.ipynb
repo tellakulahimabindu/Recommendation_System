{
 "cells": [
  {
   "cell_type": "code",
   "execution_count": null,
   "metadata": {},
   "outputs": [],
   "source": [
    "#FUZZY_SET_CREATION"
   ]
  },
  {
   "cell_type": "code",
   "execution_count": 3,
   "metadata": {},
   "outputs": [
    {
     "data": {
      "text/plain": [
       "'young, middle-aged and old'"
      ]
     },
     "execution_count": 3,
     "metadata": {},
     "output_type": "execute_result"
    }
   ],
   "source": [
    "#Age and genre interestingness measure does not reflect the actual case for human perceptions\n",
    "#because most human perceptions are fuzzy in nature,therefore age is fuzzified into three fuzzy sets19 \n",
    "'''young, middle-aged and old'''"
   ]
  },
  {
   "cell_type": "code",
   "execution_count": 4,
   "metadata": {},
   "outputs": [],
   "source": [
    "#Defining methods to get fuzzy values of given age in three sets i.e. young, middle, and old.\n",
    "\n",
    "class Age:\n",
    "    def __int__(self):\n",
    "        pass\n",
    "    \n",
    "    #Get value for young fuzzy set for given age.\n",
    "    def young(self, age):\n",
    "        if age < 20.0:\n",
    "            return 1.0\n",
    "        elif 20.0 <= age < 35.0:\n",
    "            return float((35-age)/15.0)\n",
    "        else:\n",
    "            return 0.0\n",
    "    \n",
    "    #Get value for middle fuzzy set for given age.\n",
    "    def middle(self, age):  \n",
    "        if age <= 20 or age > 60:\n",
    "            return 0.0\n",
    "        elif 20 < age <= 35:\n",
    "            return float(age-20)/15\n",
    "        elif 35 < age <= 45:\n",
    "            return 1.0\n",
    "        elif 45 < age <= 60:\n",
    "            return (60-age)/15.0\n",
    "        \n",
    "    #get value for old fuzzy set for given age. \n",
    "    def old(self, age):\n",
    "        \n",
    "        if age <= 45:\n",
    "            return 0.0\n",
    "        elif 45 < age <= 60:\n",
    "            return (age-45.0)/15\n",
    "        else:\n",
    "            return 1.0\n",
    "        \n",
    "    #Get fuzzy set values of given age.\n",
    "    def get_fuzzy_set(self, age):\n",
    "        return [self.young(age),\n",
    "                self.middle(age),\n",
    "                self.old(age)]\n"
   ]
  },
  {
   "cell_type": "code",
   "execution_count": 5,
   "metadata": {},
   "outputs": [
    {
     "data": {
      "text/plain": [
       "'very bad (VB), bad (B), average (AV), good (G), very good (VG), and excellent (E) '"
      ]
     },
     "execution_count": 5,
     "metadata": {},
     "output_type": "execute_result"
    }
   ],
   "source": [
    "#similarly,Genre interestingness measure GIM can be represented naturally by linguistic variables using six fuzzy sets namely \n",
    "'''very bad (VB), bad (B), average (AV), good (G), very good (VG), and excellent (E) '''"
   ]
  },
  {
   "cell_type": "code",
   "execution_count": 6,
   "metadata": {},
   "outputs": [],
   "source": [
    "#Generating fuzzt set for otained GIM- Genre Interestingness Measure\n",
    "\n",
    "class GIM:\n",
    "\n",
    "    def __init__(self):\n",
    "        pass\n",
    "    \n",
    "    #Method to get fuzzy set value for very_bad, bad, average, good.\n",
    "    def gim_a(self, gim, i):\n",
    "        if gim <= i - 2 or gim > i:\n",
    "            return 0.0\n",
    "        elif i - 2 < gim <= i - 1:\n",
    "            return gim - i + 2.0\n",
    "        elif i - 1 < gim <= i:\n",
    "            return float(i - gim)\n",
    "\n",
    "    def very_bad(self, gim):\n",
    "        if gim <= 1.0:\n",
    "            return 1.0\n",
    "        else:\n",
    "            return 0.0\n",
    "\n",
    "    def bad(self, gim):\n",
    "        return self.gim_a(gim, 2.0)\n",
    "\n",
    "    def average(self, gim):\n",
    "        return self.gim_a(gim, 3.0)\n",
    "\n",
    "    def good(self, gim):\n",
    "        return self.gim_a(gim, 4.0)\n",
    "\n",
    "    def very_good(self, gim):\n",
    "        return self.gim_a(gim, 5.0)\n",
    "\n",
    "    def excellent(self, gim):\n",
    "        if gim <=4.0:\n",
    "            return 0.0\n",
    "        else:\n",
    "            return (gim-4.0)\n",
    "        \n",
    "    #generates a fuzzy set of gim(list of values) for a given gim value.\n",
    "    def get_fuzzy_set(self, gim_value):\n",
    "        return [self.very_bad(gim_value),\n",
    "                self.bad(gim_value),\n",
    "                self.average(gim_value),\n",
    "                self.good(gim_value),\n",
    "                self.very_good(gim_value),\n",
    "                self.excellent(gim_value)]"
   ]
  }
 ],
 "metadata": {
  "kernelspec": {
   "display_name": "Python 3",
   "language": "python",
   "name": "python3"
  },
  "language_info": {
   "codemirror_mode": {
    "name": "ipython",
    "version": 3
   },
   "file_extension": ".py",
   "mimetype": "text/x-python",
   "name": "python",
   "nbconvert_exporter": "python",
   "pygments_lexer": "ipython3",
   "version": "3.8.0"
  }
 },
 "nbformat": 4,
 "nbformat_minor": 4
}
