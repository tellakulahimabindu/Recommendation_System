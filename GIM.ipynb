{
 "cells": [
  {
   "cell_type": "code",
   "execution_count": 1,
   "metadata": {},
   "outputs": [],
   "source": [
    "# Calculating GIM Genre_interestingness_measure"
   ]
  },
  {
   "cell_type": "code",
   "execution_count": null,
   "metadata": {},
   "outputs": [],
   "source": [
    "#To compute the interestingness measure of a genre G j (GIM) for a user ui we have used the following formula.\n",
    "#  GIM(a, j) = (2 × N × RGR(a, j) × MRGF(a, j))/(RGR(a, j) + MRGF(a, j))\n",
    "\n",
    "\n",
    "# where MRGF is modified relative genre frequency of genre Gj for user ua\n",
    "# RGR (relative genre rating) is the ratio of ui’s ratings for high rated items of Gj to her total ratings \n",
    "# N is the normalization factor for a given system.\n",
    "# TF and TR are the total frequency and total rating respectively."
   ]
  },
  {
   "cell_type": "code",
   "execution_count": 5,
   "metadata": {},
   "outputs": [],
   "source": [
    "from itertools import count\n",
    "import numpy as np"
   ]
  },
  {
   "cell_type": "code",
   "execution_count": 6,
   "metadata": {},
   "outputs": [],
   "source": [
    "#genre_columns\n",
    "genre_cols = ['unknown', 'Action', 'Adventure', 'Animation', 'Children\\'s', 'Comedy', 'Crime', 'Documentary', 'Drama',\n",
    "          'Fantasy','Film-Noir', 'Horror', 'Musical', 'Mystery', 'Romance', 'Sci-Fi', 'Thriller', 'War', 'Western']\n",
    "NO_OF_GENRES=len(genre_cols)\n",
    "\n",
    "# tr - total_ratings\n",
    "# gr - genre_rating\n",
    "# gf - genre_frequency\n",
    "# rgr - realtive_genre_ratings\n",
    "# rgf - relative_genre_frequency\n",
    "# mrgf - modified_relative_genre_frequency\n",
    "# gim - genre interestingness measure\n",
    "\n",
    "#intializing them as numpy arrays\n",
    "gr = np.zeros(NO_OF_GENRES)\n",
    "gf = np.zeros(NO_OF_GENRES)\n",
    "rgr = np.zeros(NO_OF_GENRES)\n",
    "rgf = np.zeros(NO_OF_GENRES)\n",
    "mrgf = np.zeros(NO_OF_GENRES)\n"
   ]
  },
  {
   "cell_type": "code",
   "execution_count": 7,
   "metadata": {},
   "outputs": [],
   "source": [
    "\n",
    "def total_rating(i):\n",
    "    \"\"\"Get total of given or particular rating.\"\"\"\n",
    "    total = 0\n",
    "    for k in count['rating']:\n",
    "        total = total + k\n",
    "    return total\n",
    "\n",
    "\n",
    "def genre_rating(movies):\n",
    "    \"\"\"Get genre rating for movies\"\"\"\n",
    "    for i in range(0, NO_OF_GENRES):\n",
    "        gr[i] = np.dot(movies['rating'], movies[genre_cols[i]])\n",
    "    return gr\n",
    "\n",
    "\n",
    "def genre_frequency(movies):\n",
    "    \"\"\"Get genre frequency for all the movies i.e. how many movies have a particular genre.\"\"\"\n",
    "    for i in range(0, NO_OF_GENRES):\n",
    "        gf[i] = movies[genre_cols[i]].sum()\n",
    "    return gf\n",
    "\n",
    "\n",
    "def relative_genre_rating(gr, tr):\n",
    "    \"\"\"Relative Genre Rating= Genre Ratings/ Total Rating\"\"\"\n",
    "    for i in range(0, NO_OF_GENRES):\n",
    "        rgr[i] = gr[i] / tr\n",
    "    return rgr\n",
    "\n",
    "\n",
    "def relative_genre_frequency(gf, tf):\n",
    "    \"\"\"Relative Genre Frequency=Genre Frequency/Total Frequency\"\"\"\n",
    "    for i in range(0, NO_OF_GENRES):\n",
    "        rgf[i] = gf[i] / tf\n",
    "    return rgf\n",
    "\n",
    "\n",
    "def add_for_mrgf(movies):\n",
    "    total = np.zeros(NO_OF_GENRES)\n",
    "    for i in range(0, NO_OF_GENRES):\n",
    "        m_t = movies.loc[movies[genre_cols[i]] == 1]\n",
    "        for j in m_t['rating']:\n",
    "            total[i] = total[i] + (j - 2)\n",
    "    return total\n",
    "\n",
    "\n",
    "def modified_relative_genre_frequency(movies, tf):\n",
    "    \"\"\"Modified Relative Genre Frequency = add_for_mrgf/(3*Total Frequency)\"\"\"\n",
    "    added = add_for_mrgf(movies)\n",
    "    for i in range(0, NO_OF_GENRES):\n",
    "        mrgf[i] = (added[i]) / (3.0 * tf)\n",
    "    return mrgf\n",
    "\n",
    "\n",
    "def gim_final(user_movies, i):\n",
    "    \"\"\"Get GIM of movies of particular user\"\"\"\n",
    "\n",
    "    gim_list = [0] * NO_OF_FEATURES\n",
    "    tf = user_movies.shape[0]\n",
    "    # print tf\n",
    "    tr = 0\n",
    "    for k in user_movies['rating']:\n",
    "        tr = tr + k\n",
    "    movies = user_movies.loc[user_movies['rating'] >= 3.0]\n",
    "\n",
    "    gr = genre_rating(movies)\n",
    "    # gf = genre_frequency(movies)\n",
    "    rgr = relative_genre_rating(gr, tr)\n",
    "    # rgf = relative_genre_frequency(gf, tf)\n",
    "    mrgf = modified_relative_genre_frequency(movies, tf)\n",
    "\n",
    "    nf = 5.0\n",
    "    for i in range(0, NO_OF_GENRES):\n",
    "        gim_list[i] = (2 * nf * mrgf[i] * rgr[i]) / (rgr[i] + mrgf[i])\n",
    "    gim_list = np.nan_to_num(gim_list)\n",
    "    return gim_list"
   ]
  },
  {
   "cell_type": "code",
   "execution_count": null,
   "metadata": {},
   "outputs": [],
   "source": []
  }
 ],
 "metadata": {
  "kernelspec": {
   "display_name": "Python 3",
   "language": "python",
   "name": "python3"
  },
  "language_info": {
   "codemirror_mode": {
    "name": "ipython",
    "version": 3
   },
   "file_extension": ".py",
   "mimetype": "text/x-python",
   "name": "python",
   "nbconvert_exporter": "python",
   "pygments_lexer": "ipython3",
   "version": "3.8.0"
  }
 },
 "nbformat": 4,
 "nbformat_minor": 4
}
